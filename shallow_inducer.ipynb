{
 "cells": [
  {
   "cell_type": "code",
   "execution_count": 2,
   "id": "c622a888",
   "metadata": {},
   "outputs": [
    {
     "name": "stderr",
     "output_type": "stream",
     "text": [
      "Matplotlib is building the font cache; this may take a moment.\n"
     ]
    }
   ],
   "source": [
    "import pandas as pd\n",
    "#from tqdm import tqdm\n",
    "import matplotlib.pyplot as plt\n",
    "import seaborn as sns\n",
    "from sklearn.compose import ColumnTransformer\n",
    "from sklearn.ensemble import RandomForestClassifier\n",
    "from sklearn.feature_extraction.text import TfidfVectorizer\n",
    "from sklearn.metrics import accuracy_score, classification_report, confusion_matrix\n",
    "from sklearn.model_selection import train_test_split\n",
    "from sklearn.pipeline import Pipeline\n",
    "from tqdm.notebook import tqdm"
   ]
  },
  {
   "cell_type": "code",
   "execution_count": null,
   "id": "63e8531c",
   "metadata": {},
   "outputs": [
    {
     "name": "stdout",
     "output_type": "stream",
     "text": [
      "Index(['language', 'original_string', 'original_docstring', 'short_docstring',\n",
      "       'modified_short_docstring'],\n",
      "      dtype='object')\n",
      "Length =  200\n"
     ]
    }
   ],
   "source": [
    "\"\"\"train_df = pd.read_excel(\"self_training_annotated.xlsx\", sheet_name=\"Sheet1\", usecols=[5, 8, 9, 14, 16])\n",
    "training_sample = train_df.groupby('language', group_keys=False).sample(n=20)\n",
    "training_sample.columns\"\"\""
   ]
  },
  {
   "cell_type": "code",
   "execution_count": 17,
   "id": "5a8b10c2",
   "metadata": {},
   "outputs": [
    {
     "data": {
      "text/plain": [
       "Index(['original_string', 'original_docstring', 'modified_short_docstring',\n",
       "       'label'],\n",
       "      dtype='object')"
      ]
     },
     "execution_count": 17,
     "metadata": {},
     "output_type": "execute_result"
    }
   ],
   "source": [
    "training_sample = pd.read_csv(\"annotations_labeled.csv\")\n",
    "#training_sample = train_df.groupby('label', group_keys=False).sample(n=45)\n",
    "training_sample.columns"
   ]
  },
  {
   "cell_type": "code",
   "execution_count": 17,
   "id": "dc8c485f",
   "metadata": {},
   "outputs": [
    {
     "data": {
      "application/vnd.jupyter.widget-view+json": {
       "model_id": "520f1e528bca4b3fb7edbcba68a7389b",
       "version_major": 2,
       "version_minor": 0
      },
      "text/plain": [
       "0it [00:00, ?it/s]"
      ]
     },
     "metadata": {},
     "output_type": "display_data"
    }
   ],
   "source": [
    "\"\"\"llm_set:list[dict] = []\n",
    "\n",
    "for instance in tqdm(training_sample.itertuples()):\n",
    "    language = instance.language\n",
    "    original_doc = instance.original_docstring\n",
    "    original_code = instance.original_string\n",
    "    positive = instance.modified_short_docstring\n",
    "    negative = instance.short_docstring\n",
    "\n",
    " \n",
    "    llm_set.append({\n",
    "        \"code\": original_code,\n",
    "        \"original_doc\": original_doc,\n",
    "        \"candidate_sentence\": positive,\n",
    "        \"label\": 1\n",
    "    })\n",
    "\n",
    "    llm_set.append({\n",
    "        \"code\": original_code,\n",
    "        \"original_doc\": original_doc,\n",
    "        \"candidate_sentence\": negative,\n",
    "        \"label\": 0\n",
    "    })\"\"\"\n",
    "\n"
   ]
  },
  {
   "cell_type": "code",
   "execution_count": 18,
   "id": "b68f13c3",
   "metadata": {},
   "outputs": [
    {
     "data": {
      "text/plain": [
       "160"
      ]
     },
     "execution_count": 18,
     "metadata": {},
     "output_type": "execute_result"
    }
   ],
   "source": [
    "training_sample = training_sample.dropna()\n",
    "len(training_sample)"
   ]
  },
  {
   "cell_type": "code",
   "execution_count": 19,
   "id": "7cb9c941",
   "metadata": {},
   "outputs": [],
   "source": [
    "X = training_sample.drop('label', axis=1)\n",
    "y = training_sample['label']\n",
    "\n",
    "# Split the dataset into training and testing sets\n",
    "X_train, X_test, y_train, y_test = train_test_split(X, y, test_size=0.3, random_state=42)"
   ]
  },
  {
   "cell_type": "code",
   "execution_count": 20,
   "id": "e214a577",
   "metadata": {},
   "outputs": [],
   "source": [
    "# Define transformers\n",
    "preprocessor = ColumnTransformer(transformers=[\n",
    "    ('tfidf_1', TfidfVectorizer(), 'original_string'),\n",
    "    ('tfidf_2', TfidfVectorizer(), 'original_docstring'),\n",
    "    ('tfidf_3', TfidfVectorizer(), 'modified_short_docstring')\n",
    "])\n",
    "\n",
    "# Full pipeline with classifier\n",
    "pipeline = Pipeline(steps=[\n",
    "    ('preprocess', preprocessor),\n",
    "    ('clf', RandomForestClassifier())\n",
    "])"
   ]
  },
  {
   "cell_type": "code",
   "execution_count": 21,
   "id": "ed800447",
   "metadata": {},
   "outputs": [
    {
     "name": "stdout",
     "output_type": "stream",
     "text": [
      "Accuracy: 0.7500\n",
      "Classification Report:\n",
      "              precision    recall  f1-score   support\n",
      "\n",
      "          No       0.75      1.00      0.86        36\n",
      "         Yes       0.00      0.00      0.00        12\n",
      "\n",
      "    accuracy                           0.75        48\n",
      "   macro avg       0.38      0.50      0.43        48\n",
      "weighted avg       0.56      0.75      0.64        48\n",
      "\n"
     ]
    },
    {
     "name": "stderr",
     "output_type": "stream",
     "text": [
      "/home/a/adeniji/CIS732/documentation-simplification/cis732/lib/python3.10/site-packages/sklearn/metrics/_classification.py:1531: UndefinedMetricWarning: Precision is ill-defined and being set to 0.0 in labels with no predicted samples. Use `zero_division` parameter to control this behavior.\n",
      "  _warn_prf(average, modifier, f\"{metric.capitalize()} is\", len(result))\n",
      "/home/a/adeniji/CIS732/documentation-simplification/cis732/lib/python3.10/site-packages/sklearn/metrics/_classification.py:1531: UndefinedMetricWarning: Precision is ill-defined and being set to 0.0 in labels with no predicted samples. Use `zero_division` parameter to control this behavior.\n",
      "  _warn_prf(average, modifier, f\"{metric.capitalize()} is\", len(result))\n",
      "/home/a/adeniji/CIS732/documentation-simplification/cis732/lib/python3.10/site-packages/sklearn/metrics/_classification.py:1531: UndefinedMetricWarning: Precision is ill-defined and being set to 0.0 in labels with no predicted samples. Use `zero_division` parameter to control this behavior.\n",
      "  _warn_prf(average, modifier, f\"{metric.capitalize()} is\", len(result))\n"
     ]
    }
   ],
   "source": [
    "pipeline.fit(X_train, y_train)\n",
    "y_pred = pipeline.predict(X_test)\n",
    "\n",
    "accuracy = accuracy_score(y_test, y_pred)\n",
    "print(f'Accuracy: {accuracy:.4f}')\n",
    "print('Classification Report:')\n",
    "print(classification_report(y_test, y_pred))"
   ]
  },
  {
   "cell_type": "code",
   "execution_count": 22,
   "id": "097e9e0a",
   "metadata": {},
   "outputs": [
    {
     "data": {
      "image/png": "[encoded data removed]",
      "text/plain": [
       "<Figure size 640x480 with 2 Axes>"
      ]
     },
     "metadata": {},
     "output_type": "display_data"
    }
   ],
   "source": [
    "cm = confusion_matrix(y_test, y_pred)\n",
    "sns.heatmap(cm, annot=True, fmt='d', cmap='Blues')\n",
    "plt.xlabel('Predicted')\n",
    "plt.ylabel('Actual')\n",
    "plt.show()"
   ]
  }
 ],
 "metadata": {
  "kernelspec": {
   "display_name": "cis732",
   "language": "python",
   "name": "python3"
  },
  "language_info": {
   "codemirror_mode": {
    "name": "ipython",
    "version": 3
   },
   "file_extension": ".py",
   "mimetype": "text/x-python",
   "name": "python",
   "nbconvert_exporter": "python",
   "pygments_lexer": "ipython3",
   "version": "3.10.12"
  }
 },
 "nbformat": 4,
 "nbformat_minor": 5
}
