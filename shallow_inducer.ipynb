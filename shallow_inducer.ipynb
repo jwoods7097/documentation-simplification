{
 "cells": [
  {
   "cell_type": "code",
   "execution_count": 52,
   "id": "c622a888",
   "metadata": {},
   "outputs": [],
   "source": [
    "import pandas as pd\n",
    "#from tqdm import tqdm\n",
    "import matplotlib.pyplot as plt\n",
    "import seaborn as sns\n",
    "from sklearn.compose import ColumnTransformer\n",
    "from sklearn.ensemble import RandomForestClassifier\n",
    "from sklearn.feature_extraction.text import TfidfVectorizer\n",
    "from sklearn.metrics import accuracy_score, classification_report, confusion_matrix\n",
    "from sklearn.model_selection import train_test_split\n",
    "from sklearn.pipeline import Pipeline\n",
    "from tqdm.notebook import tqdm"
   ]
  },
  {
   "cell_type": "code",
   "execution_count": null,
   "id": "63e8531c",
   "metadata": {},
   "outputs": [
    {
     "name": "stdout",
     "output_type": "stream",
     "text": [
      "Index(['language', 'original_string', 'original_docstring', 'short_docstring',\n",
      "       'modified_short_docstring'],\n",
      "      dtype='object')\n",
      "Length =  200\n"
     ]
    }
   ],
   "source": [
    "train_df = pd.read_excel(\"self_training_annotated.xlsx\", sheet_name=\"Sheet1\", usecols=[5, 8, 9, 14, 16])\n",
    "training_sample = train_df.groupby('language', group_keys=False).sample(n=20)\n",
    "training_sample.columns"
   ]
  },
  {
   "cell_type": "code",
   "execution_count": 17,
   "id": "dc8c485f",
   "metadata": {},
   "outputs": [
    {
     "data": {
      "application/vnd.jupyter.widget-view+json": {
       "model_id": "520f1e528bca4b3fb7edbcba68a7389b",
       "version_major": 2,
       "version_minor": 0
      },
      "text/plain": [
       "0it [00:00, ?it/s]"
      ]
     },
     "metadata": {},
     "output_type": "display_data"
    }
   ],
   "source": [
    "llm_set:list[dict] = []\n",
    "\n",
    "for instance in tqdm(training_sample.itertuples()):\n",
    "    language = instance.language\n",
    "    original_doc = instance.original_docstring\n",
    "    original_code = instance.original_string\n",
    "    positive = instance.modified_short_docstring\n",
    "    negative = instance.short_docstring\n",
    "\n",
    " \n",
    "    llm_set.append({\n",
    "        \"code\": original_code,\n",
    "        \"original_doc\": original_doc,\n",
    "        \"candidate_sentence\": positive,\n",
    "        \"label\": 1\n",
    "    })\n",
    "\n",
    "    llm_set.append({\n",
    "        \"code\": original_code,\n",
    "        \"original_doc\": original_doc,\n",
    "        \"candidate_sentence\": negative,\n",
    "        \"label\": 0\n",
    "    })\n",
    "\n"
   ]
  },
  {
   "cell_type": "code",
   "execution_count": 36,
   "id": "f4ee38ee",
   "metadata": {},
   "outputs": [
    {
     "data": {
      "text/html": [
       "<div>\n",
       "<style scoped>\n",
       "    .dataframe tbody tr th:only-of-type {\n",
       "        vertical-align: middle;\n",
       "    }\n",
       "\n",
       "    .dataframe tbody tr th {\n",
       "        vertical-align: top;\n",
       "    }\n",
       "\n",
       "    .dataframe thead th {\n",
       "        text-align: right;\n",
       "    }\n",
       "</style>\n",
       "<table border=\"1\" class=\"dataframe\">\n",
       "  <thead>\n",
       "    <tr style=\"text-align: right;\">\n",
       "      <th></th>\n",
       "      <th>code</th>\n",
       "      <th>original_doc</th>\n",
       "      <th>candidate_sentence</th>\n",
       "      <th>label</th>\n",
       "    </tr>\n",
       "  </thead>\n",
       "  <tbody>\n",
       "    <tr>\n",
       "      <th>0</th>\n",
       "      <td>int stab_fun(string str){\\n_x0001_if(str!=\"pup...</td>\n",
       "      <td>// This lets the player stab the guardian pupp...</td>\n",
       "      <td>/*Accepts a string argument.\\nThis lets the pl...</td>\n",
       "      <td>1</td>\n",
       "    </tr>\n",
       "    <tr>\n",
       "      <th>1</th>\n",
       "      <td>int stab_fun(string str){\\n_x0001_if(str!=\"pup...</td>\n",
       "      <td>// This lets the player stab the guardian pupp...</td>\n",
       "      <td>This lets the player stab the guardian puppet,...</td>\n",
       "      <td>0</td>\n",
       "    </tr>\n",
       "    <tr>\n",
       "      <th>2</th>\n",
       "      <td>LABIRINTO* alocalabirinto(void){\\n    LABIRINT...</td>\n",
       "      <td>//aloca a quantidade de memoria necessaria par...</td>\n",
       "      <td>// Allocates the amount of memory needed for a...</td>\n",
       "      <td>1</td>\n",
       "    </tr>\n",
       "    <tr>\n",
       "      <th>3</th>\n",
       "      <td>LABIRINTO* alocalabirinto(void){\\n    LABIRINT...</td>\n",
       "      <td>//aloca a quantidade de memoria necessaria par...</td>\n",
       "      <td>aloca a quantidade de memoria necessaria para ...</td>\n",
       "      <td>0</td>\n",
       "    </tr>\n",
       "    <tr>\n",
       "      <th>4</th>\n",
       "      <td>static inline void soc_eu_selEventTimer(unsign...</td>\n",
       "      <td>/** \\brief Select event to be propagated to ti...</td>\n",
       "      <td>/*Accepts 2 unsigned integers.\\nSelects the ev...</td>\n",
       "      <td>1</td>\n",
       "    </tr>\n",
       "  </tbody>\n",
       "</table>\n",
       "</div>"
      ],
      "text/plain": [
       "                                                code  \\\n",
       "0  int stab_fun(string str){\\n_x0001_if(str!=\"pup...   \n",
       "1  int stab_fun(string str){\\n_x0001_if(str!=\"pup...   \n",
       "2  LABIRINTO* alocalabirinto(void){\\n    LABIRINT...   \n",
       "3  LABIRINTO* alocalabirinto(void){\\n    LABIRINT...   \n",
       "4  static inline void soc_eu_selEventTimer(unsign...   \n",
       "\n",
       "                                        original_doc  \\\n",
       "0  // This lets the player stab the guardian pupp...   \n",
       "1  // This lets the player stab the guardian pupp...   \n",
       "2  //aloca a quantidade de memoria necessaria par...   \n",
       "3  //aloca a quantidade de memoria necessaria par...   \n",
       "4  /** \\brief Select event to be propagated to ti...   \n",
       "\n",
       "                                  candidate_sentence  label  \n",
       "0  /*Accepts a string argument.\\nThis lets the pl...      1  \n",
       "1  This lets the player stab the guardian puppet,...      0  \n",
       "2  // Allocates the amount of memory needed for a...      1  \n",
       "3  aloca a quantidade de memoria necessaria para ...      0  \n",
       "4  /*Accepts 2 unsigned integers.\\nSelects the ev...      1  "
      ]
     },
     "execution_count": 36,
     "metadata": {},
     "output_type": "execute_result"
    }
   ],
   "source": [
    "train_df = pd.DataFrame(llm_set)\n",
    "train_df = train_df.dropna()\n",
    "train_df.head()"
   ]
  },
  {
   "cell_type": "code",
   "execution_count": 41,
   "id": "7cb9c941",
   "metadata": {},
   "outputs": [],
   "source": [
    "X = train_df.drop('label', axis=1)\n",
    "y = train_df['label']\n",
    "\n",
    "# Split the dataset into training and testing sets\n",
    "X_train, X_test, y_train, y_test = train_test_split(X, y, test_size=0.3, random_state=42)"
   ]
  },
  {
   "cell_type": "code",
   "execution_count": 50,
   "id": "e214a577",
   "metadata": {},
   "outputs": [],
   "source": [
    "# Define transformers\n",
    "preprocessor = ColumnTransformer(transformers=[\n",
    "    ('tfidf_1', TfidfVectorizer(), 'code'),\n",
    "    ('tfidf_2', TfidfVectorizer(), 'original_doc'),\n",
    "    ('tfidf_3', TfidfVectorizer(), 'candidate_sentence')\n",
    "])\n",
    "\n",
    "# Full pipeline with classifier\n",
    "pipeline = Pipeline(steps=[\n",
    "    ('preprocess', preprocessor),\n",
    "    ('clf', RandomForestClassifier())\n",
    "])"
   ]
  },
  {
   "cell_type": "code",
   "execution_count": 51,
   "id": "ed800447",
   "metadata": {},
   "outputs": [
    {
     "name": "stdout",
     "output_type": "stream",
     "text": [
      "Accuracy: 0.5000\n",
      "Classification Report:\n",
      "              precision    recall  f1-score   support\n",
      "\n",
      "           0       0.54      0.64      0.58        59\n",
      "           1       0.43      0.33      0.37        49\n",
      "\n",
      "    accuracy                           0.50       108\n",
      "   macro avg       0.48      0.49      0.48       108\n",
      "weighted avg       0.49      0.50      0.49       108\n",
      "\n"
     ]
    }
   ],
   "source": [
    "pipeline.fit(X_train, y_train)\n",
    "y_pred = pipeline.predict(X_test)\n",
    "\n",
    "accuracy = accuracy_score(y_test, y_pred)\n",
    "print(f'Accuracy: {accuracy:.4f}')\n",
    "print('Classification Report:')\n",
    "print(classification_report(y_test, y_pred))"
   ]
  },
  {
   "cell_type": "code",
   "execution_count": 53,
   "id": "097e9e0a",
   "metadata": {},
   "outputs": [
    {
     "data": {
      "image/png": "[encoded data removed]",
      "text/plain": [
       "<Figure size 640x480 with 2 Axes>"
      ]
     },
     "metadata": {},
     "output_type": "display_data"
    }
   ],
   "source": [
    "cm = confusion_matrix(y_test, y_pred)\n",
    "sns.heatmap(cm, annot=True, fmt='d', cmap='Blues')\n",
    "plt.xlabel('Predicted')\n",
    "plt.ylabel('Actual')\n",
    "plt.show()"
   ]
  }
 ],
 "metadata": {
  "kernelspec": {
   "display_name": "cis732",
   "language": "python",
   "name": "python3"
  },
  "language_info": {
   "codemirror_mode": {
    "name": "ipython",
    "version": 3
   },
   "file_extension": ".py",
   "mimetype": "text/x-python",
   "name": "python",
   "nbconvert_exporter": "python",
   "pygments_lexer": "ipython3",
   "version": "3.10.12"
  }
 },
 "nbformat": 4,
 "nbformat_minor": 5
}
